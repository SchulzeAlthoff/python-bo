{
 "cells": [
  {
   "cell_type": "markdown",
   "metadata": {},
   "source": [
    "## Übungsaufgaben ##"
   ]
  },
  {
   "cell_type": "markdown",
   "metadata": {},
   "source": [
    "1.\tWas druckt folgender Python-Code auf die Console?"
   ]
  },
  {
   "cell_type": "code",
   "execution_count": null,
   "metadata": {},
   "outputs": [],
   "source": [
    "s = \"Marsupilami\"\n",
    "print (s[3:7])\n",
    "print (s[-3:5:-1])"
   ]
  },
  {
   "cell_type": "markdown",
   "metadata": {},
   "source": [
    "2.\tFolgender Code erzeugt eine Fehlermeldung. In welcher Zeile und warum?"
   ]
  },
  {
   "cell_type": "code",
   "execution_count": null,
   "metadata": {},
   "outputs": [],
   "source": [
    "l = [3, 5, 6, 3, 'Hund', 'Katze', False]\n",
    "l[0]=\"Grottenolm\"\n",
    "print (l)\n",
    "\n",
    "t = (3, 5, 6, 3, 'Hund', 'Katze', False)\n",
    "t[0]=\"Axolottl\"\n",
    "print (t)"
   ]
  },
  {
   "cell_type": "markdown",
   "metadata": {},
   "source": [
    "3.\tSie müssen prüfen, ob in zwei sehr grossen Koordinatenlisten a=[(12,15), (56,57), …] und b=[(34,56), (35, 14), …] gleiche Koordinaten enthalten sind (z.B. um topologische Prüfungen durchzuführen). \n",
    "Beschreiben Sie einen Lösungsweg.\n",
    "Schreiben Sie Python (ähnlichen) Code."
   ]
  },
  {
   "cell_type": "code",
   "execution_count": null,
   "metadata": {},
   "outputs": [],
   "source": [
    "# Intersects two Lists with keeping the order\n",
    "# Assumes a common border\n",
    "def common_border (list_1, list_2):\n",
    "    set_1 = set(list_1)\n",
    "    set_2 = set(list_2)\n",
    "    intersect = set_1.intersection(set_2) \n",
    "    return list(intersect)\n",
    "    \n",
    "list_a = [(12,12),(4,2), (6,2), (5,2)]\n",
    "list_b = [(12,11),(4,2), (6,3), (7,2)]\n",
    "\n",
    "print (common_border(list_a, list_b))\n"
   ]
  },
  {
   "cell_type": "markdown",
   "metadata": {},
   "source": [
    "4.\tPython ist eine objektorientierte Sprache. Ergänzen Sie in folgendem Codeblock den 'Konstruktor' (heller Bereich), so daß der Codeausschnitt auf die Konsole 'Hallo Spirou' druckt.\n",
    "Erläutern Sie die Methoden und Parameter.\n"
   ]
  },
  {
   "cell_type": "code",
   "execution_count": 8,
   "metadata": {},
   "outputs": [
    {
     "name": "stdout",
     "output_type": "stream",
     "text": [
      "spirou\n"
     ]
    }
   ],
   "source": [
    "# Klassendefinition\n",
    "class pers:\n",
    "    def __init__(self, name):                                                         \n",
    "        self.name = name\n",
    "                                           \n",
    "# Erzeugung eines Personenobjektes\n",
    "spirou = pers('spirou')\n",
    "# Ausgabe\n",
    "print (spirou.name)\n"
   ]
  },
  {
   "cell_type": "markdown",
   "metadata": {},
   "source": [
    "5.\tErläutern Sie folgenden Code zur Parameterübergabe:"
   ]
  },
  {
   "cell_type": "code",
   "execution_count": 10,
   "metadata": {},
   "outputs": [
    {
     "name": "stdout",
     "output_type": "stream",
     "text": [
      "156\n",
      "120\n"
     ]
    }
   ],
   "source": [
    "def flaeche (hoehe=10, breite=10):\n",
    "    return hoehe*breite\n",
    "\n",
    "rect = (12,13)\n",
    "print (flaeche(*rect))\n",
    "print (flaeche(12))"
   ]
  },
  {
   "cell_type": "markdown",
   "metadata": {},
   "source": [
    "6.\tErläutern Sie das Konzept der Kapselung von Attributen in Klassen anhand folgenden Codes:"
   ]
  },
  {
   "cell_type": "code",
   "execution_count": null,
   "metadata": {},
   "outputs": [],
   "source": [
    "class Person:\n",
    "    def __get_name (self):\n",
    "        return self.__name\n",
    "    def __set_name (self, name):\n",
    "        self.__name = name\n",
    "    name = property (__get_name, __set_name)"
   ]
  }
 ],
 "metadata": {
  "kernelspec": {
   "display_name": "Python 3",
   "language": "python",
   "name": "python3"
  },
  "language_info": {
   "codemirror_mode": {
    "name": "ipython",
    "version": 3
   },
   "file_extension": ".py",
   "mimetype": "text/x-python",
   "name": "python",
   "nbconvert_exporter": "python",
   "pygments_lexer": "ipython3",
   "version": "3.7.0"
  }
 },
 "nbformat": 4,
 "nbformat_minor": 2
}
