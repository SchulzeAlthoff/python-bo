{
 "cells": [
  {
   "cell_type": "markdown",
   "metadata": {},
   "source": [
    "## Aufgabe 4 - Klassen ##\n",
    "Erstellen Sie eine Klasse für gemessene Längen, die folgende Funktionalität zur Verfügung stellen:\n",
    "- Initialisierung eines Messwertes mit Zahlenwert und Einheit (m, feet, inch)\n",
    "- Die Zahlenwerte und die Einheiten lassen sich auslesen, aber nach der Initialisierung nicht mehr verändern\n",
    "- Bereitstellen einer entsprechenden String Repräsentation\n",
    "- Bereitstellen einer Funktion 'Länge in m', welche als Rückgabe einen korrekt umgerechneten Zahlenwert liefert (1 m sind 3.281 ft und 39.37 in)\n",
    "- Bereitstellen einer Funktion 'plus', die einen Messwert entgegennimmt und zum bestehenden addiert (unter Beachtung der Einheiten). Die Rückgabe ist ein neues Längenobjekt"
   ]
  },
  {
   "cell_type": "code",
   "execution_count": null,
   "metadata": {},
   "outputs": [],
   "source": []
  }
 ],
 "metadata": {
  "kernelspec": {
   "display_name": "Python 3",
   "language": "python",
   "name": "python3"
  },
  "language_info": {
   "codemirror_mode": {
    "name": "ipython",
    "version": 3
   },
   "file_extension": ".py",
   "mimetype": "text/x-python",
   "name": "python",
   "nbconvert_exporter": "python",
   "pygments_lexer": "ipython3",
   "version": "3.7.0"
  }
 },
 "nbformat": 4,
 "nbformat_minor": 2
}
