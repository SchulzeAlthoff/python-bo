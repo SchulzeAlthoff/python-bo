{
 "cells": [
  {
   "cell_type": "markdown",
   "metadata": {},
   "source": [
    "## Logging ##\n",
    "Um Fehler zu finden oder das Laufzeitverhalten ihrer Module un SKripte zu kennen ist ein Logging unerlässlich. In Python lässt sich grundlegendes Logging einfach realisieren."
   ]
  },
  {
   "cell_type": "code",
   "execution_count": 3,
   "metadata": {},
   "outputs": [],
   "source": [
    "# Import des Logging Moduls\n",
    "import logging\n",
    "# Create logger\n",
    "logger = logging.getLogger('MyLogger')\n",
    "# Festlegen des Log Levels - DEBUG, CRITICAL, ERROR, INFO, WARNING, ...\n",
    "logger.setLevel(logging.INFO)\n",
    "# Erstellen eines FileHandlers - der mode 'w' löscht den Log jedesmal - ansonsten 'a'\n",
    "handler = logging.FileHandler('logfile.log', mode='w')\n",
    "# Der Formatter erzeugt die passende Formatierung mit den LogRecord Attributen\n",
    "# siehe auch https://docs.python.org/3/library/logging.html#formatter-objects\n",
    "formatter = logging.Formatter('%(name)s - %(message)s')\n",
    "handler.setFormatter(formatter)\n",
    "# Die Handler als Liste an den Logger übergeben\n",
    "logger.handlers = [handler]\n",
    "\n",
    "\n",
    "for i in range(1,20):\n",
    "    logger.debug (f'Schleifendurchlauf {str(i)}')"
   ]
  },
  {
   "cell_type": "markdown",
   "metadata": {},
   "source": [
    "## Aufgabe ##\n",
    "Im folgenden Code-Block finden Sie mögliche Lösungen der Aufgabe zur Berechnung der Grenze zwischen Bochum un Dortmund.    \n",
    "Im ersten Ansatz wird die Schnittmenge mit einem Set bestimmt und die Reihenfolge über die Listen behandelt.    \n",
    "Im zweiten Ansatz werden die Schnittmengen direkt durch einen Vergleich der Listen durchgeführt.    \n",
    "- Hinterlegen Sie die einzelnen Funktionen mit Log Statements\n",
    "- Prüfen Sie welcher Ansatz schneller mit Hilfe von Log Ausgaben\n",
    "- Zur Messung eines 'timestamps' können Sie time.time() verwenden\n",
    "Hinweis: Da Sie in der Notebook Umgebung schlecht mit Ausgabestreams arbeiten (stdout und stderr) verwenden Sie einen File Handler zur Ausgabe."
   ]
  },
  {
   "cell_type": "code",
   "execution_count": 5,
   "metadata": {},
   "outputs": [
    {
     "name": "stdout",
     "output_type": "stream",
     "text": [
      "Bochum  : Stützpunkte: 3389, Länge: 70683.95498465699\n",
      "Dortmund: Stützpunkte: 4076, Länge: 107300.82375380375\n",
      "Calculated with sets\n",
      "Common  : Stützpunkte: 502, Länge: 11151.000637792202\n",
      "Calculated with lists\n",
      "Common  : Stützpunkte: 502, Länge: 11151.000637792202\n"
     ]
    }
   ],
   "source": [
    "# Berechnung mit Set\n",
    "import math\n",
    "import time\n",
    "# Log Konfiguration\n",
    "\n",
    "\n",
    "#File Load\n",
    "def file_to_coords (filename):\n",
    "    try:\n",
    "        with open(filename, 'r') as in_file:\n",
    "            in_list = in_file.read().split()\n",
    "    except FileNotFoundError:                                                   # Bekannter Fehler ohne Fehlerobjekt\n",
    "        print (\"File ist nicht vorhanden.\")\n",
    "    coordinate_list = []\n",
    "    for i in range(0,len(in_list),2):\n",
    "        coord = (float(in_list[i]), float(in_list[i+1]))\n",
    "        coordinate_list.append(coord)\n",
    "    return coordinate_list\n",
    "\n",
    "# Simple Distance between two points\n",
    "def dist_point(a,b):\n",
    "    return math.sqrt((a[0]-b[0])**2+(a[1]-b[1])**2)\n",
    "\n",
    "# Distance of a linestring as list of tupels\n",
    "def dist_ordered_list (li):\n",
    "    distance = 0\n",
    "    for i in range(1,len(li)):\n",
    "        distance += dist_point(li[i-1],li[i])\n",
    "    return distance\n",
    "\n",
    "# Intersects two Lists with keeping the order\n",
    "# Assumes a common border\n",
    "def common_border_set (list_1, list_2):\n",
    "    set_1 = set(list_1)\n",
    "    set_2 = set(list_2)\n",
    "    intersect = set_1.intersection(set_2)  \n",
    "    # There are no ordered Sets in Python, so we have to keep the order of one List\n",
    "    common_border = []\n",
    "    for item in list_1:\n",
    "        if item in intersect:\n",
    "            common_border.append(item)\n",
    "    return common_border\n",
    "\n",
    "# Intersects two Lists with keeping the order\n",
    "# Assumes a common border\n",
    "def common_border_list (list_1, list_2):   \n",
    "    # There are no ordered Sets in Python, so we have to keep the order of one List\n",
    "    common_border = []\n",
    "    for item in list_1:\n",
    "        if item in list_2:\n",
    "            common_border.append(item)\n",
    "    return common_border\n",
    "    \n",
    "    \n",
    "#Load two Files\n",
    "bo_coord = file_to_coords ('Bochum_coord_25832.txt')\n",
    "do_coord = file_to_coords ('Dortmund_coord_25832.txt')\n",
    "common_set = common_border_set(bo_coord, do_coord)\n",
    "common_list = common_border_list(bo_coord, do_coord)\n",
    "print (f\"Bochum  : Stützpunkte: {len(bo_coord)}, Länge: {dist_ordered_list(bo_coord)}\")\n",
    "print (f\"Dortmund: Stützpunkte: {len(do_coord)}, Länge: {dist_ordered_list(do_coord)}\")\n",
    "print (\"Calculated with sets\")\n",
    "print (f\"Common  : Stützpunkte: {len(common_set)}, Länge: {dist_ordered_list(common_set)}\")\n",
    "print (\"Calculated with lists\")\n",
    "print (f\"Common  : Stützpunkte: {len(common_list)}, Länge: {dist_ordered_list(common_list)}\")"
   ]
  },
  {
   "cell_type": "code",
   "execution_count": null,
   "metadata": {},
   "outputs": [],
   "source": []
  }
 ],
 "metadata": {
  "kernelspec": {
   "display_name": "Python 3",
   "language": "python",
   "name": "python3"
  },
  "language_info": {
   "codemirror_mode": {
    "name": "ipython",
    "version": 3
   },
   "file_extension": ".py",
   "mimetype": "text/x-python",
   "name": "python",
   "nbconvert_exporter": "python",
   "pygments_lexer": "ipython3",
   "version": "3.7.0"
  }
 },
 "nbformat": 4,
 "nbformat_minor": 2
}
