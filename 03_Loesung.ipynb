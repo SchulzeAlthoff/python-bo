{
 "cells": [
  {
   "cell_type": "markdown",
   "metadata": {},
   "source": [
    "## Aufgabe 4 - Klassen ##\n",
    "Erstellen Sie eine Klasse für gemessene Längen, die folgende Funktionalität zur Verfügung stellen:\n",
    "- Initialisierung eines Messwertes mit Zahlenwert und Einheit (m, feet, inch)\n",
    "- Die Zahlenwerte und die Einheiten lassen sich auslesen, aber nach der Initialisierung nicht mehr verändern\n",
    "- Bereitstellen einer entsprechenden String Repräsentation\n",
    "- Bereitstellen einer Funktion 'Länge in m', welche als Rückgabe einen korrekt umgerechneten Zahlenwert liefert (1 m sind 3.281 ft und 39.37 in)\n",
    "- Bereitstellen einer Funktion 'plus', die einen Messwert entgegennimmt und zum bestehenden addiert (unter Beachtung der Einheiten). Die Rückgabe ist ein neues Längenobjekt"
   ]
  },
  {
   "cell_type": "code",
   "execution_count": 1,
   "metadata": {},
   "outputs": [
    {
     "name": "stdout",
     "output_type": "stream",
     "text": [
      "10 m\n",
      "15 ft\n",
      "4.571776897287412 m\n",
      "14.571776897287412 m\n"
     ]
    }
   ],
   "source": [
    "class Laenge:\n",
    "    def __init__(self,laenge, einheit='m'):\n",
    "        self.__laenge = laenge\n",
    "        self.__einheit = einheit\n",
    "    def __get_laenge(self):\n",
    "        return self.__laenge\n",
    "    def __get_einheit(self):\n",
    "        return self.__einheit\n",
    "    laenge = property (__get_laenge)\n",
    "    einheit = property (__get_einheit)\n",
    "    \n",
    "    def laenge_in_m (self):\n",
    "        if self.einheit == 'ft':\n",
    "            return Laenge (self.laenge/3.281)\n",
    "        elif self.einheit == 'in':\n",
    "            return Laenge (self.laenge/39.37)\n",
    "        else:\n",
    "            return self\n",
    "        \n",
    "    def __add__ (self, other):\n",
    "        return Laenge(self.laenge_in_m().laenge + other.laenge_in_m().laenge)\n",
    "    \n",
    "    def __str__(self):\n",
    "        return f\"{str(self.__laenge)} {self.__einheit}\"\n",
    "    \n",
    "a = Laenge (10)\n",
    "b = Laenge (15, 'ft')\n",
    "\n",
    "print (str(a))\n",
    "print (b)\n",
    "print (b.laenge_in_m())\n",
    "print (a+b)"
   ]
  }
 ],
 "metadata": {
  "kernelspec": {
   "display_name": "Python 3",
   "language": "python",
   "name": "python3"
  },
  "language_info": {
   "codemirror_mode": {
    "name": "ipython",
    "version": 3
   },
   "file_extension": ".py",
   "mimetype": "text/x-python",
   "name": "python",
   "nbconvert_exporter": "python",
   "pygments_lexer": "ipython3",
   "version": "3.7.0"
  }
 },
 "nbformat": 4,
 "nbformat_minor": 2
}
