{
 "cells": [
  {
   "cell_type": "markdown",
   "metadata": {},
   "source": [
    "### Allgemeines zu Python\n",
    "Python\n",
    "\n",
    "*Über die Sprache:\n",
    "- Anfang der 90er Jahre von Guido van Rossum am Centrum Wiskunde & Informatica, Amsterdam entwickelt\n",
    "- Universelle, üblicherweise +/-interpretierte höhere Programmiersprache (kein Compiler erforderlich)\n",
    "- Unterstützt strukturierte und objektorientierte Programmierparadigmen\n",
    "- Einfach und übersichtlich (leicht erlernbar)\n",
    "– Wenig Schlüsselwörter, reduzierte Syntax\n",
    "\n",
    "*Skript Sprachen\n",
    "- Nicht wirklich abgrenzbar von 'Programmiersprachen'\n",
    "- Häufig kleiner\n",
    "- Oftmals interaktiv möglich\n",
    "- teilweise tief integriert, domänenorientiert (Linux Shell, ArcPy, Batch Skripte)\n",
    "- machmal Trennung nach interpretierten Sprachen/compilierten Sprachen\n",
    "  (Python ist eigentlich keine interpretierte Sprache -> Python Byte Code -> Python Virtual Machine (PVM)\n",
    "\n",
    "*Über die Version\n",
    "- Inkompatibler Wechsel von 2 auf 3 (Jahr?)\n",
    "- Viele Anwendungen und Bibliotheken basierend noch auf Python 2 (z.B. ArcGIS 10)\n",
    "- Viele Anwendungen und Bibliotheken basieren schon auf Python 3 (z.B. ArcGIS Pro, QGIS)\n",
    "-> Behandeln Python 3 - Besonderheiten bei ArcPy für Python2\n",
    "\n",
    "- Aktuell ein bisschen doof\n",
    "\n",
    "*Über den Compiler\t\t\t\t\t\t-> Übung ArcGIS - Python Shell - Hello World/Print \"Hallo Welt\"/\n",
    "- .../Python2.7/ArcGIS/Python.exe\n",
    "- Verwendung als Interpreter (Ausführen einer Python Datei)\n",
    "- Besonderheit 'Python Shell' (Anlehnung an Linux Shell)\n",
    "\tInteraktives Programmieren\n",
    "\tRechner (_ ist in der Shell eine Variable mit dem letzten Ergebnis)\n",
    "\tBefehlsspeicher mit Pfeil Hoch/Runter\n",
    "\tVerlassen mit Strg-P oder exit()\n",
    "\tMini Programm: \n",
    "\t>>> l = [\"A\",42,78,\"Just a String\"]\n",
    "\t>>> for character in l:\n",
    "\t... print(character)\n",
    "\t...\n",
    "\tA\n",
    "\t42\n",
    "\t78\n",
    "\tJust a String\t\n",
    "\n",
    "*Besonderheiten (speziell für Java EntwicklerInnen)\n",
    "- CaseSensitive\n",
    "- Strukturierung des Codes\n",
    "\t- Kein ; - stattdessen einfacher Umbruch\n",
    "\t- Keine {} - stattdessen Einrückungen\n",
    "- Kommentare (Zeilen mit #), Blöcke mit \"\"\"Kommentar\"\"\"\"\n",
    "\n",
    "Kein Zeilenabschluss mit ;\n",
    "\n",
    "* Variablen:\n",
    "- Variablen müssen nicht deklariert werden!\n",
    "- Variablen sind stark typisiert, d.h. casts müssen z.T. explizit durchgeführt werden\n",
    "- \n"
   ]
  },
  {
   "cell_type": "markdown",
   "metadata": {},
   "source": [
    "# Über Variablen und Datentypen\n",
    "Variablen in Python referenzieren 'Objekte' (und nicht Speicheradressen).\n",
    "Variablen müssen in Python daher nicht deklariert werden, sondern werden unmittelbar zugewiesen.\n",
    "Python ist dynamisch typisiert und nicht (wie Java) statisch typisiert."
   ]
  },
  {
   "cell_type": "code",
   "execution_count": null,
   "metadata": {},
   "outputs": [],
   "source": [
    "x = 12\n",
    "print (x)"
   ]
  },
  {
   "cell_type": "markdown",
   "metadata": {},
   "source": [
    "Mit der id Funktion prüfen wir die Objektidentität"
   ]
  },
  {
   "cell_type": "code",
   "execution_count": null,
   "metadata": {},
   "outputs": [],
   "source": [
    "print (id(x))"
   ]
  },
  {
   "cell_type": "code",
   "execution_count": null,
   "metadata": {},
   "outputs": [],
   "source": [
    "x = \"Hallo\"\n",
    "print (x)\n",
    "print (id(x))"
   ]
  },
  {
   "cell_type": "code",
   "execution_count": null,
   "metadata": {},
   "outputs": [],
   "source": [
    "y = x\n",
    "print (y)\n",
    "print (id(y))"
   ]
  },
  {
   "cell_type": "markdown",
   "metadata": {},
   "source": [
    "Wenn eine Variable zugewiesen wird, so erhält sie eine Referenz auf das abgelegt Objekt."
   ]
  },
  {
   "cell_type": "markdown",
   "metadata": {},
   "source": [
    "----------------------------------------------------------------------------------------\n",
    "Python ist streng typisiert; d.h. eine Zahl wird stets als Zahl interpretiert"
   ]
  },
  {
   "cell_type": "code",
   "execution_count": null,
   "metadata": {},
   "outputs": [],
   "source": [
    "z = 12\n",
    "print (z)\n",
    "print (y)\n",
    "print (y+z)"
   ]
  },
  {
   "cell_type": "markdown",
   "metadata": {},
   "source": [
    "Die Verwechselung von Typen ist eine beliebte Fehlerquelle.\n",
    "Eine Abfrage des Typens ist möglich mit type(x) oder isinstance (y, string)\n",
    "Die meisten Variablen müssen explizit umgewandelt werden (cast). Ein impliziter Typecast findet nur bei den numerischen Typen statt (float, int, bool)"
   ]
  },
  {
   "cell_type": "code",
   "execution_count": null,
   "metadata": {},
   "outputs": [],
   "source": [
    "print (type (z))\n",
    "print (isinstance (y,str))\n",
    "print (isinstance (y,float))\n",
    "print (y + str(z))"
   ]
  },
  {
   "cell_type": "markdown",
   "metadata": {},
   "source": [
    "## Datentypen\n",
    "Ganzzahltypen (int):\n",
    "Ganzzahlen sind in Python unlimitiert (dürfen aber nicht mit 0 anfangen, sonst werden Sie falsch interpretiert)"
   ]
  },
  {
   "cell_type": "code",
   "execution_count": null,
   "metadata": {},
   "outputs": [],
   "source": [
    "ganzzahl = 1234567898765432112345678987654321\n",
    "quadrat = ganzzahl**2\n",
    "print (quadrat)\n",
    "print (type(quadrat))"
   ]
  },
  {
   "cell_type": "markdown",
   "metadata": {},
   "source": [
    "Fliesskommazahlen (float):\n",
    "Notation mit Dezimalpunkt und Exponent"
   ]
  },
  {
   "cell_type": "code",
   "execution_count": null,
   "metadata": {},
   "outputs": [],
   "source": [
    "mit_punkt = 3.14\n",
    "mit_exponent = 3.14e2\n",
    "print (mit_punkt)\n",
    "print (mit_exponent)\n",
    "print (type(mit_punkt))"
   ]
  },
  {
   "cell_type": "markdown",
   "metadata": {},
   "source": [
    "Boolsche Werte (bool)\n",
    "Werden als True (1) oder False (0) angegeben"
   ]
  },
  {
   "cell_type": "code",
   "execution_count": null,
   "metadata": {},
   "outputs": [],
   "source": [
    "ja_nein = True\n",
    "print (ja_nein)\n",
    "print (not(ja_nein))\n",
    "print (type(ja_nein))\n",
    "print (ja_nein + ja_nein)"
   ]
  },
  {
   "cell_type": "markdown",
   "metadata": {},
   "source": [
    "Operatoren für numerische Variablen:\n",
    "\n",
    "     + Addition: 1 + 3 → 4\n",
    "     - Subtraktion: 2 - 1 → 1 \n",
    "     * Produkt: 3 * 2 → 6\n",
    "     / Quotient: 8 / 5 → 1 (Integer) \n",
    "     / Quotient: 8 / 5.0 → 1.6 (Float)\n",
    "     % Modulo: 3 % 2 → 1 (Rest)\n",
    "     ** Potenz 2**3 → 8 \n",
    "     // Abgerundeter Quotient 7.0 // 4 → 1 (immer Integer)\n",
    "     abs() Betrag abs(-34) -> 34\n"
   ]
  },
  {
   "cell_type": "markdown",
   "metadata": {},
   "source": [
    "## Sequentielle Datentypen\n",
    "In Python gibt es eine Reihe von seriellen Datentypen, die aus einer Reihe geordneter und gleichartiger Elementebestehen.\n",
    "\n",
    "- String: Eine Reihung von Zeichen.\n",
    "'Einfacher String mit Quotes'\n",
    "\"Einfacher String mit Double-Quotes\"\n",
    "'''Einfacher String mit Dreifach Quotes'''\n",
    "\"\"\"Einfacher String mit Dreifach Double Quotes\"\"\"\n",
    "Für einige Sonderzeichen müssen 'Escape? Sequenzen verwendet werden:\n",
    "'\\\\' für einen Backslash\n",
    "'\\t' für einen Tab\n",
    "'\\n' für eine neue Zeile\n",
    "...\n",
    "\n",
    "- Listen: Reihen beliebiger Objekte (z.B. auch wieder Listen!)\n",
    "x = [3, 6, 9, \"Hallo\", [\"Welt\", 47]]\n",
    "\n",
    "- Tupel: Reihen beliebiger Objekte, die aber unveränderlich sind:\n",
    "y = (3, 6, 9, [\"Baerchen\", \"Schnuffelchen\"])\n",
    "-> Mehrfachzuweisung: a, b, c, = 12, \"Hallo\", \"Du\"\n",
    "\n"
   ]
  },
  {
   "cell_type": "code",
   "execution_count": null,
   "metadata": {},
   "outputs": [],
   "source": []
  }
 ],
 "metadata": {
  "kernelspec": {
   "display_name": "Python 3",
   "language": "python",
   "name": "python3"
  },
  "language_info": {
   "codemirror_mode": {
    "name": "ipython",
    "version": 3
   },
   "file_extension": ".py",
   "mimetype": "text/x-python",
   "name": "python",
   "nbconvert_exporter": "python",
   "pygments_lexer": "ipython3",
   "version": "3.6.5"
  }
 },
 "nbformat": 4,
 "nbformat_minor": 2
}
