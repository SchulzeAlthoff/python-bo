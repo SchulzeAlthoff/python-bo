{
 "cells": [
  {
   "cell_type": "markdown",
   "metadata": {},
   "source": [
    "# Python Übungen Teil I #\n",
    "\n",
    "Die Übungen für die ersten Teile sind in einem Jupyter Notebook geschrieben. \n",
    "Hier können Sie Code Fragmente unmittelbar ausführen und Änderungen durchführen.\n",
    "Die grauen Zellen beinhalten Code, die weissen sind einfache Textelemente.\n",
    "Wenn Sie eine solche Codezelle ausführen wollen, dann clicken Sie auf den Pfeil auf der linken Seite oder verwenden Sie `[Shift][Return]`\n",
    "\n",
    "**Speichern:**\n",
    "Sie können Ihre Änderungen nicht zurück auf den Server speichern :-o\n",
    "Aber Sie können das Notebook auf Ihrem Rechner abspeichern - dazu nutzen Sie `[File] - [Download as]`."
   ]
  },
  {
   "cell_type": "code",
   "execution_count": 1,
   "metadata": {
    "scrolled": true
   },
   "outputs": [
    {
     "data": {
      "text/plain": [
       "8"
      ]
     },
     "execution_count": 1,
     "metadata": {},
     "output_type": "execute_result"
    }
   ],
   "source": [
    "4 + 4"
   ]
  },
  {
   "cell_type": "markdown",
   "metadata": {},
   "source": [
    "## Teilübung 1 - Interaktive Nutzung (Datentypen) ##\n",
    "Python ermöglicht eine **interaktive** Verwendung. Benutzen Sie die folgenden Zellen um einige Berechnungen durchzuführen. Was geht und was geht nicht?\n",
    "\n",
    "Prüfen Sie die einzelnen Zellen und versuchen Sie diese ggf. zu korrigieren.\n",
    "\n",
    "**Addition und Subtraktion**"
   ]
  },
  {
   "cell_type": "code",
   "execution_count": 2,
   "metadata": {
    "scrolled": true
   },
   "outputs": [
    {
     "data": {
      "text/plain": [
       "4"
      ]
     },
     "execution_count": 2,
     "metadata": {},
     "output_type": "execute_result"
    }
   ],
   "source": [
    "2+2"
   ]
  },
  {
   "cell_type": "code",
   "execution_count": 3,
   "metadata": {
    "scrolled": true
   },
   "outputs": [
    {
     "data": {
      "text/plain": [
       "3"
      ]
     },
     "execution_count": 3,
     "metadata": {},
     "output_type": "execute_result"
    }
   ],
   "source": [
    "7-4"
   ]
  },
  {
   "cell_type": "markdown",
   "metadata": {},
   "source": [
    "**Multiplikation und Division**"
   ]
  },
  {
   "cell_type": "code",
   "execution_count": 4,
   "metadata": {
    "scrolled": true
   },
   "outputs": [
    {
     "data": {
      "text/plain": [
       "14"
      ]
     },
     "execution_count": 4,
     "metadata": {},
     "output_type": "execute_result"
    }
   ],
   "source": [
    "7*2"
   ]
  },
  {
   "cell_type": "code",
   "execution_count": 5,
   "metadata": {
    "scrolled": true
   },
   "outputs": [
    {
     "data": {
      "text/plain": [
       "3.5"
      ]
     },
     "execution_count": 5,
     "metadata": {},
     "output_type": "execute_result"
    }
   ],
   "source": [
    "7/2"
   ]
  },
  {
   "cell_type": "code",
   "execution_count": 6,
   "metadata": {},
   "outputs": [
    {
     "data": {
      "text/plain": [
       "1.95"
      ]
     },
     "execution_count": 6,
     "metadata": {},
     "output_type": "execute_result"
    }
   ],
   "source": [
    "7.8/4"
   ]
  },
  {
   "cell_type": "code",
   "execution_count": 41,
   "metadata": {},
   "outputs": [
    {
     "data": {
      "text/plain": [
       "1.7999999999999998"
      ]
     },
     "execution_count": 41,
     "metadata": {},
     "output_type": "execute_result"
    }
   ],
   "source": [
    "7.8%2"
   ]
  },
  {
   "cell_type": "markdown",
   "metadata": {},
   "source": [
    "**Exponenten**"
   ]
  },
  {
   "cell_type": "code",
   "execution_count": 8,
   "metadata": {
    "scrolled": true
   },
   "outputs": [
    {
     "data": {
      "text/plain": [
       "1024"
      ]
     },
     "execution_count": 8,
     "metadata": {},
     "output_type": "execute_result"
    }
   ],
   "source": [
    "4**5"
   ]
  },
  {
   "cell_type": "code",
   "execution_count": 9,
   "metadata": {
    "scrolled": true
   },
   "outputs": [
    {
     "data": {
      "text/plain": [
       "410.0"
      ]
     },
     "execution_count": 9,
     "metadata": {},
     "output_type": "execute_result"
    }
   ],
   "source": [
    "4E2+10"
   ]
  },
  {
   "cell_type": "markdown",
   "metadata": {},
   "source": [
    "**Trigonmetrische Funktionen**\n",
    "\n",
    "Ohne spezifische Imports (kommt später), beschränkt sich der Umfang der Rechenoperationen auf ein Minimum."
   ]
  },
  {
   "cell_type": "code",
   "execution_count": 10,
   "metadata": {
    "scrolled": true
   },
   "outputs": [
    {
     "ename": "NameError",
     "evalue": "name 'sin' is not defined",
     "output_type": "error",
     "traceback": [
      "\u001b[1;31m---------------------------------------------------------------------------\u001b[0m",
      "\u001b[1;31mNameError\u001b[0m                                 Traceback (most recent call last)",
      "\u001b[1;32m<ipython-input-10-b6b7251d26cb>\u001b[0m in \u001b[0;36m<module>\u001b[1;34m()\u001b[0m\n\u001b[1;32m----> 1\u001b[1;33m \u001b[0msin\u001b[0m\u001b[1;33m(\u001b[0m\u001b[1;36m12\u001b[0m\u001b[1;33m)\u001b[0m\u001b[1;33m\u001b[0m\u001b[0m\n\u001b[0m",
      "\u001b[1;31mNameError\u001b[0m: name 'sin' is not defined"
     ]
    }
   ],
   "source": [
    "sin(12)"
   ]
  },
  {
   "cell_type": "code",
   "execution_count": 11,
   "metadata": {},
   "outputs": [
    {
     "data": {
      "text/plain": [
       "-0.5365729180004349"
      ]
     },
     "execution_count": 11,
     "metadata": {},
     "output_type": "execute_result"
    }
   ],
   "source": [
    "import math\n",
    "math.sin(12)"
   ]
  },
  {
   "cell_type": "markdown",
   "metadata": {},
   "source": [
    "**Stringoperatoren**"
   ]
  },
  {
   "cell_type": "code",
   "execution_count": 12,
   "metadata": {},
   "outputs": [
    {
     "data": {
      "text/plain": [
       "'Hallo Welt'"
      ]
     },
     "execution_count": 12,
     "metadata": {},
     "output_type": "execute_result"
    }
   ],
   "source": [
    "\"Hallo\" + \" \" + \"Welt\""
   ]
  },
  {
   "cell_type": "code",
   "execution_count": 43,
   "metadata": {},
   "outputs": [
    {
     "data": {
      "text/plain": [
       "'7 * 7 = 49'"
      ]
     },
     "execution_count": 43,
     "metadata": {},
     "output_type": "execute_result"
    }
   ],
   "source": [
    "\"7 * 7 = \" + str(49)"
   ]
  },
  {
   "cell_type": "markdown",
   "metadata": {},
   "source": [
    "## Aufgabe 1 - Konsole ##\n",
    "Berechnen Sie mit Hilfe der Konsole folgende Aufgabe:\n",
    "12 * 23.3 - 47^2"
   ]
  },
  {
   "cell_type": "code",
   "execution_count": 16,
   "metadata": {},
   "outputs": [
    {
     "data": {
      "text/plain": [
       "-1929.4"
      ]
     },
     "execution_count": 16,
     "metadata": {},
     "output_type": "execute_result"
    }
   ],
   "source": [
    "12 * 23.3 - 47**2"
   ]
  },
  {
   "cell_type": "markdown",
   "metadata": {},
   "source": [
    "## Teilübung 2 - Variablen ##\n",
    "Erkennen Sie das Verhalten von Variablen bzgl. Datentypen und Identität."
   ]
  },
  {
   "cell_type": "markdown",
   "metadata": {},
   "source": [
    "**Datentypen**\n",
    "Fragen Sie mit der 'type (x)' Funktion die Typen der folgenden Variablen ab bzw. prüfen Sie die Typen mit der 'isinstance (x, type)' Funktion"
   ]
  },
  {
   "cell_type": "code",
   "execution_count": 47,
   "metadata": {},
   "outputs": [],
   "source": [
    "a= 500\n",
    "b = 500.5\n",
    "c = True\n",
    "d = \"Hallo\"\n",
    "e = \"Welt\""
   ]
  },
  {
   "cell_type": "code",
   "execution_count": 45,
   "metadata": {},
   "outputs": [
    {
     "name": "stdout",
     "output_type": "stream",
     "text": [
      "<class 'int'>\n",
      "True\n"
     ]
    }
   ],
   "source": [
    "print (type (a))\n",
    "print (isinstance (a, int))"
   ]
  },
  {
   "cell_type": "markdown",
   "metadata": {},
   "source": [
    "**Identitäten**\n",
    "Prüfen Sie mit der 'id (x)' Funktion die Identität von Variablen."
   ]
  },
  {
   "cell_type": "code",
   "execution_count": 48,
   "metadata": {},
   "outputs": [
    {
     "name": "stdout",
     "output_type": "stream",
     "text": [
      "Wert von d: Hallo\n",
      "Identität von d: 1758340197376\n",
      "Wert von e: Welt\n",
      "Identität von e: 1758340866992\n"
     ]
    }
   ],
   "source": [
    "# Überprüfung der Werte und Identitäten der Variablen d und e\n",
    "print (\"Wert von d: \" + d)\n",
    "print (\"Identität von d: \" + str(id(d)))\n",
    "print (\"Wert von e: \" + e)\n",
    "print (\"Identität von e: \" + str(id(e)))"
   ]
  },
  {
   "cell_type": "code",
   "execution_count": 49,
   "metadata": {},
   "outputs": [
    {
     "name": "stdout",
     "output_type": "stream",
     "text": [
      "Neuzuweisung von e = 'Lottihase'\n",
      "Wert von d: Hallo\n",
      "Identität von d: 1758340197376\n",
      "Wert von e: Lottihase\n",
      "Identität von e: 1758340857584\n"
     ]
    }
   ],
   "source": [
    "# Neuzuweisung der Variablen e\n",
    "print (\"Neuzuweisung von e = 'Lottihase'\")\n",
    "e = 'Lottihase'\n",
    "print (\"Wert von d: \" + d)\n",
    "print (\"Identität von d: \" + str(id(d)))\n",
    "print (\"Wert von e: \" + e)\n",
    "print (\"Identität von e: \" + str(id(e)))"
   ]
  },
  {
   "cell_type": "code",
   "execution_count": 50,
   "metadata": {},
   "outputs": [
    {
     "name": "stdout",
     "output_type": "stream",
     "text": [
      "Zuweisung e = d\n",
      "Wert von d: Hallo\n",
      "Identität von d: 1758340197376\n",
      "Wert von e: Hallo\n",
      "Identität von e: 1758340197376\n"
     ]
    }
   ],
   "source": [
    "# Zuweisung der Variablen e = d\n",
    "print (\"Zuweisung e = d\")\n",
    "e = d\n",
    "print (\"Wert von d: \" + d)\n",
    "print (\"Identität von d: \" + str(id(d)))\n",
    "print (\"Wert von e: \" + e)\n",
    "print (\"Identität von e: \" + str(id(e)))"
   ]
  },
  {
   "cell_type": "code",
   "execution_count": 51,
   "metadata": {},
   "outputs": [
    {
     "name": "stdout",
     "output_type": "stream",
     "text": [
      "Zuweisung d = \"Lucihase\"\n",
      "Wert von d: Lucihase\n",
      "Identität von d: 1758340856816\n",
      "Wert von e: Hallo\n",
      "Identität von e: 1758340197376\n"
     ]
    }
   ],
   "source": [
    "# Änderung der Variable d\n",
    "# Wird auch der Wert e geändert, weil e = d?\n",
    "print ('''Zuweisung d = \"Lucihase\"''')\n",
    "d = \"Lucihase\"\n",
    "print (\"Wert von d: \" + d)\n",
    "print (\"Identität von d: \" + str(id(d)))\n",
    "print (\"Wert von e: \" + e)\n",
    "print (\"Identität von e: \" + str(id(e)))"
   ]
  },
  {
   "cell_type": "markdown",
   "metadata": {},
   "source": [
    "**Sequentielle Typen**\n",
    "\n",
    "Sequentielle typen haben in Python einige grundlegende Gemeinsamkeiten. Es lassen sich bei allen über den Index einzelne Elemente und Elementgruppen ansprechen. Es lässt sich zumindest die Länge (len) und eine String-Repräsentation erstellen."
   ]
  },
  {
   "cell_type": "code",
   "execution_count": 52,
   "metadata": {},
   "outputs": [],
   "source": [
    "# String \n",
    "s = \"Wer reitet so spät durch Nacht\"\n",
    "# List - veränderbar\n",
    "l = [3, 5, 6, 3, 'Hund', 'Katze', False]\n",
    "# Tupel - nicht veränderbar\n",
    "t = (3, 5, 6, 3, 'Hund', 'Katze', False)"
   ]
  },
  {
   "cell_type": "code",
   "execution_count": 53,
   "metadata": {},
   "outputs": [
    {
     "name": "stdout",
     "output_type": "stream",
     "text": [
      "Wer reitet so spät durch Nacht und Wind?\n",
      "[3, 5, 6, 3, 'Hund', 'Katze', False, 5, 'Häschen']\n",
      "(3, 5, 6, 3, 'Hund', 'Katze', False, 5, 'Häschen')\n"
     ]
    }
   ],
   "source": [
    "# String Hinzufügen\n",
    "s += \" und Wind?\"\n",
    "# List - Hinzufügen\n",
    "l += [5, \"Häschen\"]\n",
    "# Tupel\n",
    "t += (5, \"Häschen\")\n",
    "print (s)\n",
    "print (l)\n",
    "print (t)"
   ]
  },
  {
   "cell_type": "markdown",
   "metadata": {},
   "source": [
    "**Zugriff auf Sequentielle Typen**\n",
    "\n",
    "Sequentielle Typen lassen sich über den Index Zugreifen. Dabei kann von vorne gezählt werden (Beginnend bei 0) oder vom Ende her (beginnend bei -1).\n",
    "Soll auf Bereiche zugegriffen werden, so kann ein Bereichszugriff definiert werden [startindex:endindex]. Auch hier spielt es keine Rolle, ob von vorne oder hinten gezählt wird.\n",
    "Auch kann auf jedes 2, 3, 4, ... Element in einem Bereich zugegriffen werden. Hierzu wird noch eine Schrittweite angegeben [startindex,endindex,stepwidth]."
   ]
  },
  {
   "cell_type": "code",
   "execution_count": 54,
   "metadata": {},
   "outputs": [],
   "source": [
    "# Neu setzen \n",
    "s = \"Wer reitet so spät durch Nacht und Wind\"\n",
    "l = [3, 5, 6, 3, 'Hund', 'Katze', False]\n",
    "t = (3, 5, 6, 3, 'Hund', 'Katze', False)"
   ]
  },
  {
   "cell_type": "code",
   "execution_count": 55,
   "metadata": {},
   "outputs": [
    {
     "name": "stdout",
     "output_type": "stream",
     "text": [
      "W\n",
      "False\n",
      "Hund\n"
     ]
    }
   ],
   "source": [
    "# Einzelindex\n",
    "print (s[0])\n",
    "print (l[-1])\n",
    "print (t[4])"
   ]
  },
  {
   "cell_type": "code",
   "execution_count": 27,
   "metadata": {},
   "outputs": [
    {
     "name": "stdout",
     "output_type": "stream",
     "text": [
      "reitet\n",
      "reite\n",
      "tetier\n",
      "[3, 6, 'Hund', False]\n",
      "(False, 'Katze', 'Hund', 3, 6, 5, 3)\n"
     ]
    }
   ],
   "source": [
    "# Bereiche\n",
    "print (s[4:10])\n",
    "print (s[-35:-30])\n",
    "print (s[9:3:-1])\n",
    "print (l[::2])\n",
    "print (t[::-1])"
   ]
  },
  {
   "cell_type": "code",
   "execution_count": 28,
   "metadata": {},
   "outputs": [
    {
     "name": "stdout",
     "output_type": "stream",
     "text": [
      "39\n",
      "7\n",
      "7\n"
     ]
    }
   ],
   "source": [
    "# Standardfunktionen: len\n",
    "print (len(s))\n",
    "print (len(l))\n",
    "print (len(t))"
   ]
  },
  {
   "cell_type": "markdown",
   "metadata": {},
   "source": [
    "**Verändern von Elementen**\n",
    "\n",
    "Einzelne Elemente in einem Listentyp können nur bei Listen verändert oder gelöscht werden"
   ]
  },
  {
   "cell_type": "code",
   "execution_count": 58,
   "metadata": {},
   "outputs": [
    {
     "name": "stdout",
     "output_type": "stream",
     "text": [
      "Wer reitet so spät durch Nacht und Wind\n",
      "[3, 5, 6, 'Spinne', 'Hund', 'Katze', False]\n",
      "(3, 5, 6, 3, 'Hund', 'Katze', False)\n"
     ]
    }
   ],
   "source": [
    "# Ändern von Elementen\n",
    "# s[2] = \"*\"\n",
    "l[3] = \"Spinne\"\n",
    "# t[2] = \"*\"\n",
    "print (s)\n",
    "print (l)\n",
    "print (t)"
   ]
  },
  {
   "cell_type": "markdown",
   "metadata": {},
   "source": [
    "**Praktisches für Sequentielle Typen**\n",
    "\n",
    "Sortieren und Extremwerte"
   ]
  },
  {
   "cell_type": "code",
   "execution_count": 60,
   "metadata": {},
   "outputs": [
    {
     "name": "stdout",
     "output_type": "stream",
     "text": [
      "[' ', ' ', ' ', ' ', ' ', ' ', ' ', 'N', 'W', 'W', 'a', 'c', 'c', 'd', 'd', 'd', 'e', 'e', 'e', 'h', 'h', 'i', 'i', 'n', 'n', 'o', 'p', 'r', 'r', 'r', 's', 's', 't', 't', 't', 't', 'u', 'u', 'ä']\n",
      "[3, 3, 5, 6]\n",
      "ä\n",
      "3\n"
     ]
    }
   ],
   "source": [
    "# Sortieren\n",
    "print (sorted(s))\n",
    "# print (sorted(l))\n",
    "print (sorted(t[0:4]))\n",
    "print (max(s))\n",
    "print (min(t[0:4]))"
   ]
  },
  {
   "cell_type": "code",
   "execution_count": 34,
   "metadata": {},
   "outputs": [
    {
     "name": "stdout",
     "output_type": "stream",
     "text": [
      "[3, 5, 6, 'Spinne', 'Hund', 'Katze', False]\n",
      "(3, 5, 6, 3, 'Hund', 'Katze', False)\n"
     ]
    }
   ],
   "source": [
    "# String Repräsentation\n",
    "print (repr(l))\n",
    "print (repr(t))"
   ]
  },
  {
   "cell_type": "markdown",
   "metadata": {},
   "source": [
    "***Funktionen für String Objekte***\n",
    "Einige eingebaute Funktionen helfen besonders bei der Bearbeitung von Zeichenketten."
   ]
  },
  {
   "cell_type": "code",
   "execution_count": 61,
   "metadata": {},
   "outputs": [],
   "source": [
    "# Neu setzen \n",
    "s = \"Wer reitet so spät durch Nacht und Wind\"\n",
    "l = [3, 5, 6, 3, 'Hund', 'Katze', False]\n",
    "t = (3, 5, 6, 3, 'Hund', 'Katze', False)"
   ]
  },
  {
   "cell_type": "code",
   "execution_count": 62,
   "metadata": {},
   "outputs": [
    {
     "name": "stdout",
     "output_type": "stream",
     "text": [
      "Wer reitet so spät durch Nacht und Wind\n",
      "Wer reitet so spät durch nacht und wind\n",
      "WER REITET SO SPÄT DURCH NACHT UND WIND\n",
      "wer reitet so spät durch nacht und wind\n"
     ]
    }
   ],
   "source": [
    "# Gross und Klein\n",
    "cap = s.capitalize()\n",
    "up = s.upper()\n",
    "lo = s.lower()\n",
    "print (s)\n",
    "print (cap)\n",
    "print (up)\n",
    "print (lo)"
   ]
  },
  {
   "cell_type": "code",
   "execution_count": 63,
   "metadata": {},
   "outputs": [
    {
     "name": "stdout",
     "output_type": "stream",
     "text": [
      "4\n",
      "1\n",
      "5\n",
      "17\n",
      "True\n",
      "False\n"
     ]
    }
   ],
   "source": [
    "# Sind Substrings enthalten?\n",
    "print (s.count('t'))\n",
    "print (s.count('ei'))\n",
    "print (s.find('ei'))\n",
    "print (s.find('t',10,20))\n",
    "print (s.startswith('Wer'))\n",
    "print (s.endswith('und'))"
   ]
  },
  {
   "cell_type": "code",
   "execution_count": 38,
   "metadata": {},
   "outputs": [
    {
     "name": "stdout",
     "output_type": "stream",
     "text": [
      "Wer reytet so spät durch Nacht und Wind\n",
      "Wer reided so spät durch Nacht und Wind\n"
     ]
    }
   ],
   "source": [
    "# Ersetzungen\n",
    "print (s.replace('ei', 'ey'))\n",
    "print (s.replace('t', 'd', 2)) # nur die ersten zwei Auftreten"
   ]
  },
  {
   "cell_type": "code",
   "execution_count": 39,
   "metadata": {},
   "outputs": [
    {
     "name": "stdout",
     "output_type": "stream",
     "text": [
      "['Wer', 'reitet', 'so', 'spät', 'durch', 'Nacht', 'und', 'Wind']\n",
      "Wer reitet so spät durch Nacht und Wind\n"
     ]
    }
   ],
   "source": [
    "# Strings in Listen in Strings\n",
    "liste_str = s.split()\n",
    "print (repr(liste_str))\n",
    "str_liste = \" \".join(liste_str)\n",
    "print (str_liste)"
   ]
  },
  {
   "cell_type": "markdown",
   "metadata": {},
   "source": [
    "***Funktionen für List Objekte***\n",
    "Einige Funktionen erlauben die Manipulation von Listen"
   ]
  },
  {
   "cell_type": "code",
   "execution_count": 40,
   "metadata": {},
   "outputs": [
    {
     "name": "stdout",
     "output_type": "stream",
     "text": [
      "[3, 5, 6, 3, 'Pferd', 'Hund', 'Katze', False, 'Schildkröte', 'Frosch', 'Molch', 'Grottenolm']\n",
      "[5, 6, 3, 'Pferd', 'Hund', 'Katze', 'Schildkröte', 'Frosch', 'Molch', 'Grottenolm']\n",
      "6\n",
      "[5, 3, 'Pferd', 'Hund', 'Katze', 'Schildkröte', 'Frosch', 'Molch']\n"
     ]
    }
   ],
   "source": [
    "l.append('Schildkröte')\n",
    "l.extend(['Frosch', 'Molch', 'Grottenolm'])\n",
    "l.insert(4, 'Pferd')\n",
    "print(l)\n",
    "l.remove(3) # löschen eines Elementes mit diesem Inhalt\n",
    "l.remove (False)\n",
    "print(l)\n",
    "print(l.pop(1)) # löschen eines Objektes an dem Index -mit Rückgabe\n",
    "del l[-1]       # löschen eines Objektes aus dem Index ohne Rückgabe\n",
    "print (l)"
   ]
  }
 ],
 "metadata": {
  "kernelspec": {
   "display_name": "Python 3",
   "language": "python",
   "name": "python3"
  },
  "language_info": {
   "codemirror_mode": {
    "name": "ipython",
    "version": 3
   },
   "file_extension": ".py",
   "mimetype": "text/x-python",
   "name": "python",
   "nbconvert_exporter": "python",
   "pygments_lexer": "ipython3",
   "version": "3.7.0"
  }
 },
 "nbformat": 4,
 "nbformat_minor": 2
}
