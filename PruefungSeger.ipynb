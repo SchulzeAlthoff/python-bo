{
 "cells": [
  {
   "cell_type": "markdown",
   "metadata": {},
   "source": [
    "# Prüfung Frau Segers #\n",
    "\n",
    "## Sequentielle Datentypen und Schleifen ##\n",
    "Bitte ergänzen/korrigieren Sie den Code wie folgt:\n",
    "drucken Sie zuerst eine Liste der x Koordinaten (erster Wert im Tupel) \n",
    "und dann eine Liste der y Koordinaten (zweiter Wert im Tupel) "
   ]
  },
  {
   "cell_type": "code",
   "execution_count": 14,
   "metadata": {},
   "outputs": [
    {
     "ename": "SyntaxError",
     "evalue": "invalid syntax (<ipython-input-14-75d2be32ffb1>, line 3)",
     "output_type": "error",
     "traceback": [
      "\u001b[1;36m  File \u001b[1;32m\"<ipython-input-14-75d2be32ffb1>\"\u001b[1;36m, line \u001b[1;32m3\u001b[0m\n\u001b[1;33m    for pair in koordinaten\u001b[0m\n\u001b[1;37m                           ^\u001b[0m\n\u001b[1;31mSyntaxError\u001b[0m\u001b[1;31m:\u001b[0m invalid syntax\n"
     ]
    }
   ],
   "source": [
    "koordinaten = [(1,3),(1,4),(2,5),(3,5),(5,3),(5,4)]\n",
    "\n",
    "for pair in koordinaten\n",
    "print (pair)\n"
   ]
  },
  {
   "cell_type": "code",
   "execution_count": 13,
   "metadata": {},
   "outputs": [],
   "source": [
    "# Wie gehen Sie vor, wenn die Koordinaten in einer durchgängigen Liste stehen\n",
    "koordinaten = [1,3,1,4,2,5,3,5,5,3,5,4]\n"
   ]
  },
  {
   "cell_type": "markdown",
   "metadata": {},
   "source": [
    "## Sets ##\n",
    "Wieviele Elemente hat folgendes \"resultSet\"?"
   ]
  },
  {
   "cell_type": "code",
   "execution_count": 12,
   "metadata": {
    "scrolled": true
   },
   "outputs": [],
   "source": [
    "numbers = (1,2,3,1,2,3)\n",
    "mySet = set(numbers)\n",
    "\n",
    "mySet2 = {2,4,6,2,4,6}\n",
    "\n",
    "resultSet = mySet.intersection(mySet2)\n"
   ]
  },
  {
   "cell_type": "markdown",
   "metadata": {},
   "source": [
    "## Extra Lambda Funktionen ##\n",
    "Erläutern Sie den folgenden Code Ausschnitt:\n",
    "- was verbirgt sich hinter der Schreibweise lambda x,y: x**y ?\n",
    "- was erwarten Sie als Rückgabe?"
   ]
  },
  {
   "cell_type": "code",
   "execution_count": 15,
   "metadata": {},
   "outputs": [
    {
     "name": "stdout",
     "output_type": "stream",
     "text": [
      "16\n"
     ]
    }
   ],
   "source": [
    "def rechne_etwas (funct, a, b):\n",
    "    return funct(a,b)\n",
    "\n",
    "print (rechne_etwas(lambda x,y:x**y, 2, 4))"
   ]
  },
  {
   "cell_type": "markdown",
   "metadata": {},
   "source": [
    "## Objektorientierung ##\n",
    "Erläutern Sie anhand des Codes folgende Aspekte\n",
    "- Objektinitialisierung \n",
    "- Sichtbarkeit von Attributen und Methoden\n",
    "- Kapselung über Properties "
   ]
  },
  {
   "cell_type": "code",
   "execution_count": 16,
   "metadata": {},
   "outputs": [
    {
     "name": "stdout",
     "output_type": "stream",
     "text": [
      "gaston\n"
     ]
    }
   ],
   "source": [
    "class comicfigur:\n",
    "    def __init__ (self, name):                  \n",
    "        self.__set_name(name)\n",
    "    def __get_name (self):                      \n",
    "        return self.__name\n",
    "    def __set_name (self, name):                \n",
    "        if name == 'zantafio':                                   \n",
    "            self.__name = 'fantasio'\n",
    "        else:\n",
    "            self.__name = name\n",
    "    name = property (__get_name, __set_name)     \n",
    "\n",
    "# eine neue Comicfigur\n",
    "gast = comicfigur ('gaston')\n",
    "print (gast.name)"
   ]
  },
  {
   "cell_type": "markdown",
   "metadata": {},
   "source": [
    "## ArcPy ##\n",
    "Erläutern Sie ein paar Grundkonzepte von ArcPy\n",
    "- was passiert beim Import von ArcPy\n",
    "- was steht im 'Result Objekt'\n",
    "- Wie sind Toolboxen in ArcPy sortiert "
   ]
  },
  {
   "cell_type": "code",
   "execution_count": null,
   "metadata": {},
   "outputs": [],
   "source": [
    "import arcpy\n",
    "...\n",
    "arcpy.env.workspace = 'D:\\\\Bochum\\\\Kurse_WS2019\\\\python\\\\uebungen\\\\05_ArcPy\\\\Aufgabe_02_Clipping\\\\Aufgabe_02\\\\'\n",
    "arcpy.env.overwriteOutput = True\n",
    "\n",
    "result=arcpy.analysis.Buffer('External_Clip.shp', \"Unfaelle_Buffered.shp\", \"500 Meters\",\"\",\"\",\"ALL\")\n",
    "logger.debug(result)"
   ]
  },
  {
   "cell_type": "markdown",
   "metadata": {},
   "source": [
    "### Cursor ###\n",
    "- Welche Cursor kennen Sie\n",
    "- Erläutern Sie das konzept eines Cursors anhand folgenden Codes"
   ]
  },
  {
   "cell_type": "code",
   "execution_count": null,
   "metadata": {},
   "outputs": [],
   "source": [
    "...\n",
    "fc = 'c:/data/base.gdb/well'\n",
    "fields = ['WELL_ID', 'WELL_TYPE', 'SHAPE@XY']\n",
    "# open cursor and loop\n",
    "with arcpy.da.SearchCursor(fc, fields) as cursor:\n",
    "    for row in cursor:\n",
    "        print(row[0] + “-“ + row[1] + “-“ row[2])"
   ]
  }
 ],
 "metadata": {
  "kernelspec": {
   "display_name": "Python 3",
   "language": "python",
   "name": "python3"
  },
  "language_info": {
   "codemirror_mode": {
    "name": "ipython",
    "version": 3
   },
   "file_extension": ".py",
   "mimetype": "text/x-python",
   "name": "python",
   "nbconvert_exporter": "python",
   "pygments_lexer": "ipython3",
   "version": "3.6.10"
  }
 },
 "nbformat": 4,
 "nbformat_minor": 4
}
